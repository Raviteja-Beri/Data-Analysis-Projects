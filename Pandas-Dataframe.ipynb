{
 "cells": [
  {
   "cell_type": "code",
   "execution_count": 25,
   "id": "a8b68696-79fc-4b05-8732-114ba1bf89a1",
   "metadata": {},
   "outputs": [],
   "source": [
    "import pandas as pd\n",
    "\n",
    "data = { 'Name': ['Raviteja Beri', 'Iyer Swamy', 'Lalith Mande'],\n",
    "         'Date': ['2024-05-16','2023-01-23','2022-06-19'],\n",
    "         'Address': ['Hyderabad, Telangana','East Godavari,Ap','Chennai,Tamilnadu'],\n",
    "         'Time': ['12:10:15','16:40:22','19:25:55'] }\n",
    "\n",
    "df=pd.DataFrame(data)"
   ]
  },
  {
   "cell_type": "code",
   "execution_count": 27,
   "id": "6b2e5078-5024-4abb-98e9-17571cdb59bf",
   "metadata": {},
   "outputs": [
    {
     "data": {
      "text/html": [
       "<div>\n",
       "<style scoped>\n",
       "    .dataframe tbody tr th:only-of-type {\n",
       "        vertical-align: middle;\n",
       "    }\n",
       "\n",
       "    .dataframe tbody tr th {\n",
       "        vertical-align: top;\n",
       "    }\n",
       "\n",
       "    .dataframe thead th {\n",
       "        text-align: right;\n",
       "    }\n",
       "</style>\n",
       "<table border=\"1\" class=\"dataframe\">\n",
       "  <thead>\n",
       "    <tr style=\"text-align: right;\">\n",
       "      <th></th>\n",
       "      <th>Name</th>\n",
       "      <th>Date</th>\n",
       "      <th>Address</th>\n",
       "      <th>Time</th>\n",
       "    </tr>\n",
       "  </thead>\n",
       "  <tbody>\n",
       "    <tr>\n",
       "      <th>0</th>\n",
       "      <td>Raviteja Beri</td>\n",
       "      <td>2024-05-16</td>\n",
       "      <td>Hyderabad, Telangana</td>\n",
       "      <td>12:10:15</td>\n",
       "    </tr>\n",
       "    <tr>\n",
       "      <th>1</th>\n",
       "      <td>Iyer Swamy</td>\n",
       "      <td>2023-01-23</td>\n",
       "      <td>East Godavari,Ap</td>\n",
       "      <td>16:40:22</td>\n",
       "    </tr>\n",
       "    <tr>\n",
       "      <th>2</th>\n",
       "      <td>Lalith Mande</td>\n",
       "      <td>2022-06-19</td>\n",
       "      <td>Chennai,Tamilnadu</td>\n",
       "      <td>19:25:55</td>\n",
       "    </tr>\n",
       "  </tbody>\n",
       "</table>\n",
       "</div>"
      ],
      "text/plain": [
       "            Name        Date               Address      Time\n",
       "0  Raviteja Beri  2024-05-16  Hyderabad, Telangana  12:10:15\n",
       "1     Iyer Swamy  2023-01-23      East Godavari,Ap  16:40:22\n",
       "2   Lalith Mande  2022-06-19     Chennai,Tamilnadu  19:25:55"
      ]
     },
     "execution_count": 27,
     "metadata": {},
     "output_type": "execute_result"
    }
   ],
   "source": [
    "df"
   ]
  },
  {
   "cell_type": "code",
   "execution_count": 29,
   "id": "709b889a-f878-4afa-8100-9acb34117f45",
   "metadata": {},
   "outputs": [
    {
     "name": "stdout",
     "output_type": "stream",
     "text": [
      "            Name       Date               Address      Time first_name  \\\n",
      "0  Raviteja Beri 2024-05-16  Hyderabad, Telangana  12:10:15   Raviteja   \n",
      "1     Iyer Swamy 2023-01-23      East Godavari,Ap  16:40:22       Iyer   \n",
      "2   Lalith Mande 2022-06-19     Chennai,Tamilnadu  19:25:55     Lalith   \n",
      "\n",
      "  last_name  Year  Month  Day Hour Minute Seconds  \n",
      "0      Beri  2024      5   16   12     10      15  \n",
      "1     Swamy  2023      1   23   16     40      22  \n",
      "2     Mande  2022      6   19   19     25      55  \n"
     ]
    }
   ],
   "source": [
    "df[['first_name','last_name']]=df['Name'].str.split(' ', n=1, expand=True)\n",
    "\n",
    "df['Date']=pd.to_datetime(df['Date'])\n",
    "df['Year']=df['Date'].dt.year\n",
    "df['Month']=df['Date'].dt.month\n",
    "df['Day']=df['Date'].dt.day\n",
    "\n",
    "df[['Hour','Minute','Seconds']]=df['Time'].str.split(':', expand=True)\n",
    "\n",
    "print(df)"
   ]
  },
  {
   "cell_type": "code",
   "execution_count": 23,
   "id": "b04cada1-6cc7-4053-86e4-46bdf6587945",
   "metadata": {},
   "outputs": [
    {
     "name": "stdout",
     "output_type": "stream",
     "text": [
      "  first_name last_name       Date  Year  Month  Day Hour Minute Seconds\n",
      "0   Raviteja      Beri 2024-05-16  2024      5   16   12     10      15\n",
      "1       Iyer     Swamy 2023-01-23  2023      1   23   16     40      22\n",
      "2     Lalith     Mande 2022-06-19  2022      6   19   19     25      55\n"
     ]
    }
   ],
   "source": [
    "new_df=['first_name','last_name','Date','Year','Month','Day','Hour','Minute','Seconds']\n",
    "df=df[new_df]\n",
    "\n",
    "print(df)"
   ]
  },
  {
   "cell_type": "code",
   "execution_count": 17,
   "id": "c24ea1f8-910a-4426-8deb-bc5ac288a89a",
   "metadata": {},
   "outputs": [
    {
     "data": {
      "text/plain": [
       "{'Name': ['Raviteja Beri', 'Iyer Swamy', 'Lalith Mande'],\n",
       " 'Date': ['2024-05-16', '2023-01-23', '2022-06-19'],\n",
       " 'Address': ['Hyderabad, Telangana', 'East Godavari,Ap', 'Chennai,Tamilnadu'],\n",
       " 'Time': ['12:10:15', '16:40:22', '19:25:55']}"
      ]
     },
     "execution_count": 17,
     "metadata": {},
     "output_type": "execute_result"
    }
   ],
   "source": [
    "data"
   ]
  },
  {
   "cell_type": "code",
   "execution_count": 19,
   "id": "099058a9-e615-4a08-8fab-add987c10a5e",
   "metadata": {},
   "outputs": [
    {
     "ename": "TypeError",
     "evalue": "Passing a dict as an indexer is not supported. Use a list instead.",
     "output_type": "error",
     "traceback": [
      "\u001b[1;31m---------------------------------------------------------------------------\u001b[0m",
      "\u001b[1;31mTypeError\u001b[0m                                 Traceback (most recent call last)",
      "Cell \u001b[1;32mIn[19], line 1\u001b[0m\n\u001b[1;32m----> 1\u001b[0m df[data]\n",
      "File \u001b[1;32mC:\\anaconda\\Lib\\site-packages\\pandas\\core\\frame.py:4063\u001b[0m, in \u001b[0;36mDataFrame.__getitem__\u001b[1;34m(self, key)\u001b[0m\n\u001b[0;32m   4062\u001b[0m \u001b[38;5;28;01mdef\u001b[39;00m \u001b[38;5;21m__getitem__\u001b[39m(\u001b[38;5;28mself\u001b[39m, key):\n\u001b[1;32m-> 4063\u001b[0m     check_dict_or_set_indexers(key)\n\u001b[0;32m   4064\u001b[0m     key \u001b[38;5;241m=\u001b[39m lib\u001b[38;5;241m.\u001b[39mitem_from_zerodim(key)\n\u001b[0;32m   4065\u001b[0m     key \u001b[38;5;241m=\u001b[39m com\u001b[38;5;241m.\u001b[39mapply_if_callable(key, \u001b[38;5;28mself\u001b[39m)\n",
      "File \u001b[1;32mC:\\anaconda\\Lib\\site-packages\\pandas\\core\\indexing.py:2783\u001b[0m, in \u001b[0;36mcheck_dict_or_set_indexers\u001b[1;34m(key)\u001b[0m\n\u001b[0;32m   2774\u001b[0m     \u001b[38;5;28;01mraise\u001b[39;00m \u001b[38;5;167;01mTypeError\u001b[39;00m(\n\u001b[0;32m   2775\u001b[0m         \u001b[38;5;124m\"\u001b[39m\u001b[38;5;124mPassing a set as an indexer is not supported. Use a list instead.\u001b[39m\u001b[38;5;124m\"\u001b[39m\n\u001b[0;32m   2776\u001b[0m     )\n\u001b[0;32m   2778\u001b[0m \u001b[38;5;28;01mif\u001b[39;00m (\n\u001b[0;32m   2779\u001b[0m     \u001b[38;5;28misinstance\u001b[39m(key, \u001b[38;5;28mdict\u001b[39m)\n\u001b[0;32m   2780\u001b[0m     \u001b[38;5;129;01mor\u001b[39;00m \u001b[38;5;28misinstance\u001b[39m(key, \u001b[38;5;28mtuple\u001b[39m)\n\u001b[0;32m   2781\u001b[0m     \u001b[38;5;129;01mand\u001b[39;00m \u001b[38;5;28many\u001b[39m(\u001b[38;5;28misinstance\u001b[39m(x, \u001b[38;5;28mdict\u001b[39m) \u001b[38;5;28;01mfor\u001b[39;00m x \u001b[38;5;129;01min\u001b[39;00m key)\n\u001b[0;32m   2782\u001b[0m ):\n\u001b[1;32m-> 2783\u001b[0m     \u001b[38;5;28;01mraise\u001b[39;00m \u001b[38;5;167;01mTypeError\u001b[39;00m(\n\u001b[0;32m   2784\u001b[0m         \u001b[38;5;124m\"\u001b[39m\u001b[38;5;124mPassing a dict as an indexer is not supported. Use a list instead.\u001b[39m\u001b[38;5;124m\"\u001b[39m\n\u001b[0;32m   2785\u001b[0m     )\n",
      "\u001b[1;31mTypeError\u001b[0m: Passing a dict as an indexer is not supported. Use a list instead."
     ]
    }
   ],
   "source": []
  },
  {
   "cell_type": "code",
   "execution_count": null,
   "id": "989be1aa-144c-45fe-9735-e92bb06d4487",
   "metadata": {},
   "outputs": [],
   "source": []
  }
 ],
 "metadata": {
  "kernelspec": {
   "display_name": "Python [conda env:base] *",
   "language": "python",
   "name": "conda-base-py"
  },
  "language_info": {
   "codemirror_mode": {
    "name": "ipython",
    "version": 3
   },
   "file_extension": ".py",
   "mimetype": "text/x-python",
   "name": "python",
   "nbconvert_exporter": "python",
   "pygments_lexer": "ipython3",
   "version": "3.12.7"
  }
 },
 "nbformat": 4,
 "nbformat_minor": 5
}
